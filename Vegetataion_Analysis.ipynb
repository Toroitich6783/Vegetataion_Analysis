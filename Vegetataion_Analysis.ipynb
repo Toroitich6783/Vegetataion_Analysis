{
 "cells": [
  {
   "cell_type": "markdown",
   "id": "f79f90d9",
   "metadata": {},
   "source": [
    "<!-- ## SMALL-SCALE CROP-MAPPING(Food security) -->"
   ]
  },
  {
   "cell_type": "markdown",
   "id": "fc554006",
   "metadata": {},
   "source": [
    "<center><h1>NDVI Application</h1> </center>"
   ]
  },
  {
   "cell_type": "code",
   "execution_count": 1,
   "id": "8b526208",
   "metadata": {
    "scrolled": true
   },
   "outputs": [],
   "source": [
    "#Importation of variAous Libraries or packages...\n",
    "import os\n",
    "from os import path as op\n",
    "import geopandas as gdp\n",
    "import geemap\n",
    "import ee\n",
    "import geemap.foliumap as geemap\n",
    "\n",
    "# Making module or packages collection attribute became callable..\n",
    "import collections\n",
    "collections.Callable = collections.abc.Callable\n",
    "\n",
    "#plotting packages\n",
    "import pandas as pd#Used for data analysis also include DataFrame df data structure\n",
    "import matplotlib.pyplot as plt#For plotting of dataframes\n",
    "import numpy as np\n",
    "# import altair as alt#declarative visualization(Used for charting)\n",
    "\n",
    "import ipywidgets as widgets\n",
    "\n",
    "from ipyleaflet import WidgetControl\n",
    "from ipywidgets import HTML\n",
    "from IPython.display import display, clear_output\n",
    "from ipywidgets import AppLayout\n",
    "\n",
    "from geemap import chart #for chart plotting\n",
    "\n",
    "import datetime\n",
    "from pylab import *\n",
    "import seaborn as sns\n",
    "from matplotlib.pylab import rcParams\n",
    "from statsmodels.tsa.seasonal import seasonal_decompose\n",
    "\n",
    "\n",
    "#Main function is to out various warning that might arise such as new upadates in package version\n",
    "import warnings\n",
    "warnings.filterwarnings(\"ignore\")\n",
    "\n",
    "import folium\n",
    "\n",
    "Map=geemap.Map()\n",
    "\n",
    "from geemap import Map\n",
    "from ipywidgets import Button, Layout\n",
    "\n",
    "map_layout= Map(layout=Layout(height='100px'))\n",
    "map_layout.setCenter(-121.842, 38.855,6)\n",
    " \n",
    "import geemap.chart as chart\n"
   ]
  },
  {
   "cell_type": "code",
   "execution_count": 2,
   "id": "47501396",
   "metadata": {},
   "outputs": [
    {
     "data": {
      "text/html": [
       "\n",
       "            <style>\n",
       "                .geemap-dark {\n",
       "                    --jp-widgets-color: white;\n",
       "                    --jp-widgets-label-color: white;\n",
       "                    --jp-ui-font-color1: white;\n",
       "                    --jp-layout-color2: #454545;\n",
       "                    background-color: #383838;\n",
       "                }\n",
       "\n",
       "                .geemap-dark .jupyter-button {\n",
       "                    --jp-layout-color3: #383838;\n",
       "                }\n",
       "\n",
       "                .geemap-colab {\n",
       "                    background-color: var(--colab-primary-surface-color, white);\n",
       "                }\n",
       "\n",
       "                .geemap-colab .jupyter-button {\n",
       "                    --jp-layout-color3: var(--colab-primary-surface-color, white);\n",
       "                }\n",
       "            </style>\n",
       "            "
      ],
      "text/plain": [
       "<IPython.core.display.HTML object>"
      ]
     },
     "metadata": {},
     "output_type": "display_data"
    }
   ],
   "source": [
    "#Setting various buttons for the final dsplay of the results and the output widgets or setting the intractive keys\n",
    "style = {'description_width': 'initial'}\n",
    "#General output widget\n",
    "output_widget = widgets.Output(layout={'border': '1px solid red','align-items':'center','background-color':'red'})\n",
    "\n",
    "\n",
    "#General output control tool.\n",
    "output_control = WidgetControl(widget=output_widget, position='topright')\n",
    "#Map output control\n",
    "map_layout.add_control(output_control)\n",
    "\n",
    "#BUTTON  and TEXT SECTION \n",
    "Enter_project = widgets.Text(\n",
    "    placeholder='Enter a project name(if any)',\n",
    "    description='project selection:',\n",
    "    disabled=False,\n",
    ")\n",
    "\n",
    "#styling method that can be used-----'primary', 'success', 'info', 'warning', 'danger',)\n",
    "#Data collection button: Selection of collected data from the field.\n",
    "\n",
    "#AOI Area of Interest Selection of study area.\n",
    "AOI = widgets.Button(\n",
    "    description='Drawn ROI',\n",
    "    button_style='success',\n",
    "    tooltip='Draw you boundaries',\n",
    "    style=style\n",
    ")\n",
    "\n",
    "Load_Data = widgets.Button(\n",
    "    description='Load Data',\n",
    "    button_style='info',\n",
    "    tooltip='Load NDVI Data',\n",
    "    style=style\n",
    ")\n",
    "Cal_Ndvi= widgets.Button(\n",
    "    description='Extract NDVI',\n",
    "    button_style='warning',\n",
    "    tooltip='Analysis Charts',\n",
    "    style=style\n",
    ")\n",
    "Plot_Chart= widgets.Button(\n",
    "    description='Analysis Chart',\n",
    "    button_style='primary',\n",
    "    tooltip='Timeseries charts',\n",
    "    style=style\n",
    ")\n",
    "\n",
    "reset = widgets.Button(\n",
    "    description='Reset',\n",
    "    button_style='danger',\n",
    "    tooltip='Reset me',\n",
    "    style=style\n",
    ")"
   ]
  },
  {
   "cell_type": "code",
   "execution_count": 3,
   "id": "18ba402b",
   "metadata": {},
   "outputs": [
    {
     "data": {
      "text/html": [
       "\n",
       "            <style>\n",
       "                .geemap-dark {\n",
       "                    --jp-widgets-color: white;\n",
       "                    --jp-widgets-label-color: white;\n",
       "                    --jp-ui-font-color1: white;\n",
       "                    --jp-layout-color2: #454545;\n",
       "                    background-color: #383838;\n",
       "                }\n",
       "\n",
       "                .geemap-dark .jupyter-button {\n",
       "                    --jp-layout-color3: #383838;\n",
       "                }\n",
       "\n",
       "                .geemap-colab {\n",
       "                    background-color: var(--colab-primary-surface-color, white);\n",
       "                }\n",
       "\n",
       "                .geemap-colab .jupyter-button {\n",
       "                    --jp-layout-color3: var(--colab-primary-surface-color, white);\n",
       "                }\n",
       "            </style>\n",
       "            "
      ],
      "text/plain": [
       "<IPython.core.display.HTML object>"
      ]
     },
     "metadata": {},
     "output_type": "display_data"
    },
    {
     "data": {
      "application/vnd.jupyter.widget-view+json": {
       "model_id": "12c8cb685a794af88419d2ea4dc6dfae",
       "version_major": 2,
       "version_minor": 0
      },
      "text/plain": [
       "AppLayout(children=(VBox(children=(Map(center=[38.855, -121.842], controls=(WidgetControl(options=['position',…"
      ]
     },
     "metadata": {},
     "output_type": "display_data"
    }
   ],
   "source": [
    "#Arrange the layout\n",
    "from ipywidgets import AppLayout\n",
    "verticalBox = output_widget\n",
    "vBox1 = widgets.VBox([map_layout])\n",
    "\n",
    "\n",
    "vBox2 = widgets.VBox([AOI,Load_Data,Cal_Ndvi,Plot_Chart,reset])\n",
    "\n",
    "AppLayout(header=None,\n",
    "          left_sidebar=vBox1,\n",
    "          right_sidebar=vBox2,\n",
    "          footer=None,\n",
    "          step= 1,\n",
    "          pane_widths=[3, 7, 1],\n",
    "          pane_heights=[1, 1, '100%'])"
   ]
  },
  {
   "cell_type": "code",
   "execution_count": 4,
   "id": "4d75b13e",
   "metadata": {},
   "outputs": [
    {
     "data": {
      "text/html": [
       "\n",
       "            <style>\n",
       "                .geemap-dark {\n",
       "                    --jp-widgets-color: white;\n",
       "                    --jp-widgets-label-color: white;\n",
       "                    --jp-ui-font-color1: white;\n",
       "                    --jp-layout-color2: #454545;\n",
       "                    background-color: #383838;\n",
       "                }\n",
       "\n",
       "                .geemap-dark .jupyter-button {\n",
       "                    --jp-layout-color3: #383838;\n",
       "                }\n",
       "\n",
       "                .geemap-colab {\n",
       "                    background-color: var(--colab-primary-surface-color, white);\n",
       "                }\n",
       "\n",
       "                .geemap-colab .jupyter-button {\n",
       "                    --jp-layout-color3: var(--colab-primary-surface-color, white);\n",
       "                }\n",
       "            </style>\n",
       "            "
      ],
      "text/plain": [
       "<IPython.core.display.HTML object>"
      ]
     },
     "metadata": {},
     "output_type": "display_data"
    }
   ],
   "source": [
    "#Trial to avoid printing error in the code but a message to the user\n",
    "def AOI_clicked(b):\n",
    "        with output_widget:\n",
    "            output_widget.clear_output()\n",
    "            try:\n",
    "                global boundaries\n",
    "                boundaries=map_layout.user_rois.geometry()\n",
    "                map_layout.addLayer(boundaries,{},\"Region of Intrest\")\n",
    "            except Exception as e:\n",
    "                print('Please select Your area of Interest.....')\n",
    "            else:\n",
    "                print(\"successfully drawn your Region of Interest \")\n",
    "AOI.on_click(AOI_clicked)"
   ]
  },
  {
   "cell_type": "code",
   "execution_count": 5,
   "id": "2d97d278",
   "metadata": {},
   "outputs": [
    {
     "data": {
      "text/html": [
       "\n",
       "            <style>\n",
       "                .geemap-dark {\n",
       "                    --jp-widgets-color: white;\n",
       "                    --jp-widgets-label-color: white;\n",
       "                    --jp-ui-font-color1: white;\n",
       "                    --jp-layout-color2: #454545;\n",
       "                    background-color: #383838;\n",
       "                }\n",
       "\n",
       "                .geemap-dark .jupyter-button {\n",
       "                    --jp-layout-color3: #383838;\n",
       "                }\n",
       "\n",
       "                .geemap-colab {\n",
       "                    background-color: var(--colab-primary-surface-color, white);\n",
       "                }\n",
       "\n",
       "                .geemap-colab .jupyter-button {\n",
       "                    --jp-layout-color3: var(--colab-primary-surface-color, white);\n",
       "                }\n",
       "            </style>\n",
       "            "
      ],
      "text/plain": [
       "<IPython.core.display.HTML object>"
      ]
     },
     "metadata": {},
     "output_type": "display_data"
    }
   ],
   "source": [
    "#Trial to avoid printing error in the code but a message to the user\n",
    "def AOI_clicked(b):\n",
    "        with output_widget:\n",
    "            output_widget.clear_output()\n",
    "            try:\n",
    "                # Create image collection\n",
    "                # Set start and end date\n",
    "                startTime = datetime.datetime(2015, 1, 1)\n",
    "                endTime = datetime.datetime(2020, 12, 31)\n",
    "                global collection\n",
    "                collection = ee.ImageCollection('VITO/PROBAV/C1/S1_TOC_100M').filterDate(startTime, endTime)\n",
    "                colorizedVis = {\n",
    "                  'min': 0.0,\n",
    "                  'max': 1.0,\n",
    "                  'palette': [\n",
    "                    'FFFFFF', 'CE7E45', 'DF923D', 'F1B555', 'FCD163', '99B718', '74A901',\n",
    "                    '66A000', '529400', '3E8601', '207401', '056201', '004C00', '023B01',\n",
    "                    '012E01', '011D01', '011301'\n",
    "                  ],\n",
    "                }\n",
    "                 \n",
    "                colorizedVis = {'min':0, 'max':200, 'palette':['red','brown','yellow', 'green'] }#NDVI visualization parameters\n",
    "                NDVI=collection.select(\"NDVI\")\n",
    "                global collection_clip\n",
    "                collection_clip=NDVI.mean().clip(boundaries)\n",
    "                map_layout.centerObject(boundaries,12)\n",
    "                map_layout.addLayer(collection_clip, colorizedVis, 'Colorized')\n",
    "\n",
    "            except Exception as e:\n",
    "                print('Please select repeat the previous steps.....')\n",
    "            else:\n",
    "                print(\"successfully clipped the data to a specific region within the map \")\n",
    "        \n",
    "Load_Data.on_click(AOI_clicked)"
   ]
  },
  {
   "cell_type": "code",
   "execution_count": 6,
   "id": "b0fe59bd",
   "metadata": {},
   "outputs": [
    {
     "data": {
      "text/html": [
       "\n",
       "            <style>\n",
       "                .geemap-dark {\n",
       "                    --jp-widgets-color: white;\n",
       "                    --jp-widgets-label-color: white;\n",
       "                    --jp-ui-font-color1: white;\n",
       "                    --jp-layout-color2: #454545;\n",
       "                    background-color: #383838;\n",
       "                }\n",
       "\n",
       "                .geemap-dark .jupyter-button {\n",
       "                    --jp-layout-color3: #383838;\n",
       "                }\n",
       "\n",
       "                .geemap-colab {\n",
       "                    background-color: var(--colab-primary-surface-color, white);\n",
       "                }\n",
       "\n",
       "                .geemap-colab .jupyter-button {\n",
       "                    --jp-layout-color3: var(--colab-primary-surface-color, white);\n",
       "                }\n",
       "            </style>\n",
       "            "
      ],
      "text/plain": [
       "<IPython.core.display.HTML object>"
      ]
     },
     "metadata": {},
     "output_type": "display_data"
    }
   ],
   "source": [
    "\n",
    "#Trial to avoid printing error in the code but a message to the user\n",
    "def AOI_clicked(b):\n",
    "        with output_widget:\n",
    "            output_widget.clear_output()\n",
    "            try:\n",
    "                info = collection.getRegion(boundaries,5000).getInfo()\n",
    "                # Reshape image collection \n",
    "                header = info[0]\n",
    "                data = array(info[1:])\n",
    "\n",
    "                iTime = header.index('time')\n",
    "                time = [datetime.datetime.fromtimestamp(i/1000) for i in (data[0:,iTime].astype(float))]\n",
    "\n",
    "                # List of used image bands\n",
    "                band_list = ['RED',u'NIR']\n",
    "\n",
    "                iBands = [header.index(b) for b in band_list]\n",
    "                yData = data[0:,iBands].astype(np.float)\n",
    "\n",
    "                # Calculate NDVI\n",
    "                red = yData[:,0]\n",
    "                nir = yData[:,1]\n",
    "                global ndvi\n",
    "                ndvi = (nir - red) / (nir + red)\n",
    "\n",
    "            except Exception as e:\n",
    "                print('Please select repeat the previous steps.....')\n",
    "            else:\n",
    "                print(\"successfully estimated the NDVI\")       \n",
    "Cal_Ndvi.on_click(AOI_clicked)"
   ]
  },
  {
   "cell_type": "code",
   "execution_count": 7,
   "id": "1ead1adc",
   "metadata": {},
   "outputs": [
    {
     "data": {
      "text/html": [
       "\n",
       "            <style>\n",
       "                .geemap-dark {\n",
       "                    --jp-widgets-color: white;\n",
       "                    --jp-widgets-label-color: white;\n",
       "                    --jp-ui-font-color1: white;\n",
       "                    --jp-layout-color2: #454545;\n",
       "                    background-color: #383838;\n",
       "                }\n",
       "\n",
       "                .geemap-dark .jupyter-button {\n",
       "                    --jp-layout-color3: #383838;\n",
       "                }\n",
       "\n",
       "                .geemap-colab {\n",
       "                    background-color: var(--colab-primary-surface-color, white);\n",
       "                }\n",
       "\n",
       "                .geemap-colab .jupyter-button {\n",
       "                    --jp-layout-color3: var(--colab-primary-surface-color, white);\n",
       "                }\n",
       "            </style>\n",
       "            "
      ],
      "text/plain": [
       "<IPython.core.display.HTML object>"
      ]
     },
     "metadata": {},
     "output_type": "display_data"
    }
   ],
   "source": [
    "user_out = widgets.Output(layout={'border': '1px solid green'})"
   ]
  },
  {
   "cell_type": "code",
   "execution_count": 8,
   "id": "c8a1166d",
   "metadata": {},
   "outputs": [
    {
     "data": {
      "text/html": [
       "\n",
       "            <style>\n",
       "                .geemap-dark {\n",
       "                    --jp-widgets-color: white;\n",
       "                    --jp-widgets-label-color: white;\n",
       "                    --jp-ui-font-color1: white;\n",
       "                    --jp-layout-color2: #454545;\n",
       "                    background-color: #383838;\n",
       "                }\n",
       "\n",
       "                .geemap-dark .jupyter-button {\n",
       "                    --jp-layout-color3: #383838;\n",
       "                }\n",
       "\n",
       "                .geemap-colab {\n",
       "                    background-color: var(--colab-primary-surface-color, white);\n",
       "                }\n",
       "\n",
       "                .geemap-colab .jupyter-button {\n",
       "                    --jp-layout-color3: var(--colab-primary-surface-color, white);\n",
       "                }\n",
       "            </style>\n",
       "            "
      ],
      "text/plain": [
       "<IPython.core.display.HTML object>"
      ]
     },
     "metadata": {},
     "output_type": "display_data"
    }
   ],
   "source": [
    "\n",
    "#Trial to avoid printing error in the code but a message to the user\n",
    "def AOI_clicked(b):\n",
    "        with user_out:\n",
    "            output_widget.clear_output()\n",
    "            try:\n",
    "                df = pd.DataFrame(data=ndvi, index=list(range(len(ndvi))), columns=['NDVI'])\n",
    "                df = df.interpolate()\n",
    "                df['Date'] = pd.Series(time, index=df.index)\n",
    "                df = df.set_index(df.Date)\n",
    "                df.index = pd.to_datetime(df.index)\n",
    "                df['NDVI']=df['NDVI'].fillna(0)\n",
    "\n",
    "                # Change size\n",
    "                sns.set(rc={'figure.figsize':(15, 6)})\n",
    "\n",
    "                df_monthly=df.resample('W').mean()\n",
    "                df_monthly['pct_change'] = df_monthly.pct_change(52)\n",
    "                df_monthly['pct_change']['2016':].plot()\n",
    "                plt.title('NDVI Weekly Percent Change')\n",
    "                \n",
    "            except Exception as e:\n",
    "                print('Please select repeat the previous steps.....')\n",
    "            else:\n",
    "                print(\"successfully estimated the NDVI\")\n",
    "        \n",
    "Plot_Chart.on_click(AOI_clicked)"
   ]
  },
  {
   "cell_type": "code",
   "execution_count": 9,
   "id": "77698cf7",
   "metadata": {},
   "outputs": [
    {
     "data": {
      "text/html": [
       "\n",
       "            <style>\n",
       "                .geemap-dark {\n",
       "                    --jp-widgets-color: white;\n",
       "                    --jp-widgets-label-color: white;\n",
       "                    --jp-ui-font-color1: white;\n",
       "                    --jp-layout-color2: #454545;\n",
       "                    background-color: #383838;\n",
       "                }\n",
       "\n",
       "                .geemap-dark .jupyter-button {\n",
       "                    --jp-layout-color3: #383838;\n",
       "                }\n",
       "\n",
       "                .geemap-colab {\n",
       "                    background-color: var(--colab-primary-surface-color, white);\n",
       "                }\n",
       "\n",
       "                .geemap-colab .jupyter-button {\n",
       "                    --jp-layout-color3: var(--colab-primary-surface-color, white);\n",
       "                }\n",
       "            </style>\n",
       "            "
      ],
      "text/plain": [
       "<IPython.core.display.HTML object>"
      ]
     },
     "metadata": {},
     "output_type": "display_data"
    },
    {
     "data": {
      "application/vnd.jupyter.widget-view+json": {
       "model_id": "f8fbf9c80f724887bfc86ef2ec9960bd",
       "version_major": 2,
       "version_minor": 0
      },
      "text/plain": [
       "Output(layout=Layout(border='1px solid green'))"
      ]
     },
     "metadata": {},
     "output_type": "display_data"
    }
   ],
   "source": [
    "user_out"
   ]
  },
  {
   "cell_type": "markdown",
   "id": "267c420b",
   "metadata": {},
   "source": [
    "<!-- <center><img src=\"mylogo.png\" style=\"width: 80px;border-radius: 60%;\n",
    "\"></center> -->"
   ]
  }
 ],
 "metadata": {
  "kernelspec": {
   "display_name": "Python 3 (ipykernel)",
   "language": "python",
   "name": "python3"
  },
  "language_info": {
   "codemirror_mode": {
    "name": "ipython",
    "version": 3
   },
   "file_extension": ".py",
   "mimetype": "text/x-python",
   "name": "python",
   "nbconvert_exporter": "python",
   "pygments_lexer": "ipython3",
   "version": "3.11.8"
  }
 },
 "nbformat": 4,
 "nbformat_minor": 5
}
